{
 "cells": [
  {
   "cell_type": "markdown",
   "id": "b42cb2d7",
   "metadata": {},
   "source": [
    "# 2. Write a python program to display IMDB’s Top rated 100 movies’ data (i.e. name, rating, year of release) and make data frame"
   ]
  },
  {
   "cell_type": "code",
   "execution_count": 1,
   "id": "ce1de729",
   "metadata": {},
   "outputs": [],
   "source": [
    "from bs4 import BeautifulSoup\n",
    "import requests"
   ]
  },
  {
   "cell_type": "code",
   "execution_count": 2,
   "id": "15e84d79",
   "metadata": {},
   "outputs": [],
   "source": [
    "MoviesDict = {'Movie Name' : [], 'Year' : [], 'Rating' : []}\n",
    "\n",
    "def movie_function(url):\n",
    "    \n",
    "    \n",
    "    page = requests.get(url)\n",
    "    \n",
    "    \n",
    "    \n",
    "    soup = BeautifulSoup(page.content)\n",
    "\n",
    "\n",
    "\n",
    "    MoviesList = []\n",
    "    \n",
    "    for i in soup.find_all('div', class_=\"lister-item-content\"):\n",
    "        MoviesList.append(i.text.split('\\n'))\n",
    "        MoviesDict['Rating'].append(i.find('div', class_=\"inline-block ratings-imdb-rating\").text.split()[0])\n",
    "    \n",
    "    \n",
    "    for i in MoviesList:    \n",
    "        MoviesDict['Movie Name'].append(i[3])\n",
    "        MoviesDict['Year'].append(i[4])\n",
    "        "
   ]
  },
  {
   "cell_type": "code",
   "execution_count": 3,
   "id": "90c35b72",
   "metadata": {
    "scrolled": true
   },
   "outputs": [],
   "source": [
    "url1 = \"https://www.imdb.com/search/title/?groups=top_100&sort=user_rating,desc\"\n",
    "url2 = \"https://www.imdb.com/search/title/?groups=top_100&sort=user_rating,desc&start=51&ref_=adv_nxt\"\n",
    "\n",
    "movie_function(url1)\n",
    "movie_function(url2)"
   ]
  },
  {
   "cell_type": "code",
   "execution_count": 4,
   "id": "76c11b22",
   "metadata": {},
   "outputs": [],
   "source": [
    "import pandas as pd\n",
    "\n",
    "df = pd.DataFrame(MoviesDict)"
   ]
  },
  {
   "cell_type": "code",
   "execution_count": 5,
   "id": "0c576b9c",
   "metadata": {
    "scrolled": true
   },
   "outputs": [
    {
     "data": {
      "text/html": [
       "<div>\n",
       "<style scoped>\n",
       "    .dataframe tbody tr th:only-of-type {\n",
       "        vertical-align: middle;\n",
       "    }\n",
       "\n",
       "    .dataframe tbody tr th {\n",
       "        vertical-align: top;\n",
       "    }\n",
       "\n",
       "    .dataframe thead th {\n",
       "        text-align: right;\n",
       "    }\n",
       "</style>\n",
       "<table border=\"1\" class=\"dataframe\">\n",
       "  <thead>\n",
       "    <tr style=\"text-align: right;\">\n",
       "      <th></th>\n",
       "      <th>Movie Name</th>\n",
       "      <th>Year</th>\n",
       "      <th>Rating</th>\n",
       "    </tr>\n",
       "  </thead>\n",
       "  <tbody>\n",
       "    <tr>\n",
       "      <th>0</th>\n",
       "      <td>The Shawshank Redemption</td>\n",
       "      <td>(1994)</td>\n",
       "      <td>9.3</td>\n",
       "    </tr>\n",
       "    <tr>\n",
       "      <th>1</th>\n",
       "      <td>The Godfather</td>\n",
       "      <td>(1972)</td>\n",
       "      <td>9.2</td>\n",
       "    </tr>\n",
       "    <tr>\n",
       "      <th>2</th>\n",
       "      <td>The Dark Knight</td>\n",
       "      <td>(2008)</td>\n",
       "      <td>9.0</td>\n",
       "    </tr>\n",
       "    <tr>\n",
       "      <th>3</th>\n",
       "      <td>The Lord of the Rings: The Return of the King</td>\n",
       "      <td>(2003)</td>\n",
       "      <td>9.0</td>\n",
       "    </tr>\n",
       "    <tr>\n",
       "      <th>4</th>\n",
       "      <td>Schindler's List</td>\n",
       "      <td>(1993)</td>\n",
       "      <td>9.0</td>\n",
       "    </tr>\n",
       "    <tr>\n",
       "      <th>...</th>\n",
       "      <td>...</td>\n",
       "      <td>...</td>\n",
       "      <td>...</td>\n",
       "    </tr>\n",
       "    <tr>\n",
       "      <th>95</th>\n",
       "      <td>North by Northwest</td>\n",
       "      <td>(1959)</td>\n",
       "      <td>8.3</td>\n",
       "    </tr>\n",
       "    <tr>\n",
       "      <th>96</th>\n",
       "      <td>Vertigo</td>\n",
       "      <td>(1958)</td>\n",
       "      <td>8.3</td>\n",
       "    </tr>\n",
       "    <tr>\n",
       "      <th>97</th>\n",
       "      <td>Singin' in the Rain</td>\n",
       "      <td>(1952)</td>\n",
       "      <td>8.3</td>\n",
       "    </tr>\n",
       "    <tr>\n",
       "      <th>98</th>\n",
       "      <td>Citizen Kane</td>\n",
       "      <td>(1941)</td>\n",
       "      <td>8.3</td>\n",
       "    </tr>\n",
       "    <tr>\n",
       "      <th>99</th>\n",
       "      <td>M - Eine Stadt sucht einen Mörder</td>\n",
       "      <td>(1931)</td>\n",
       "      <td>8.3</td>\n",
       "    </tr>\n",
       "  </tbody>\n",
       "</table>\n",
       "<p>100 rows × 3 columns</p>\n",
       "</div>"
      ],
      "text/plain": [
       "                                       Movie Name    Year Rating\n",
       "0                        The Shawshank Redemption  (1994)    9.3\n",
       "1                                   The Godfather  (1972)    9.2\n",
       "2                                 The Dark Knight  (2008)    9.0\n",
       "3   The Lord of the Rings: The Return of the King  (2003)    9.0\n",
       "4                                Schindler's List  (1993)    9.0\n",
       "..                                            ...     ...    ...\n",
       "95                             North by Northwest  (1959)    8.3\n",
       "96                                        Vertigo  (1958)    8.3\n",
       "97                            Singin' in the Rain  (1952)    8.3\n",
       "98                                   Citizen Kane  (1941)    8.3\n",
       "99              M - Eine Stadt sucht einen Mörder  (1931)    8.3\n",
       "\n",
       "[100 rows x 3 columns]"
      ]
     },
     "execution_count": 5,
     "metadata": {},
     "output_type": "execute_result"
    }
   ],
   "source": [
    "df"
   ]
  }
 ],
 "metadata": {
  "kernelspec": {
   "display_name": "Python 3 (ipykernel)",
   "language": "python",
   "name": "python3"
  },
  "language_info": {
   "codemirror_mode": {
    "name": "ipython",
    "version": 3
   },
   "file_extension": ".py",
   "mimetype": "text/x-python",
   "name": "python",
   "nbconvert_exporter": "python",
   "pygments_lexer": "ipython3",
   "version": "3.9.7"
  }
 },
 "nbformat": 4,
 "nbformat_minor": 5
}
